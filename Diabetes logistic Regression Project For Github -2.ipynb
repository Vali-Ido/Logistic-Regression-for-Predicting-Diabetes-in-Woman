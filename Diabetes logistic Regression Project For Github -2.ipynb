{
 "cells": [
  {
   "cell_type": "markdown",
   "id": "515526ac",
   "metadata": {},
   "source": [
    "# Logistic Regression for Predicting Diabetes in Woman"
   ]
  },
  {
   "cell_type": "markdown",
   "id": "61a6daa0",
   "metadata": {},
   "source": [
    "A logistic regression machine learning model will be implemented to determine if people have diabetes give certain characteristics. The dataset is taken from the \"National Institute of Diabetes & Digestive & Kidney Diseases\" in the USA. The patients in the data are females of Prima Indian Heritage of age 21 and older."
   ]
  },
  {
   "cell_type": "code",
   "execution_count": 1,
   "id": "7fd03e22",
   "metadata": {},
   "outputs": [],
   "source": [
    "#importing the necessary libraries \n",
    "\n",
    "import pandas as pd\n",
    "import numpy as np\n",
    "import seaborn as sns\n",
    "import matplotlib.pyplot as plt\n",
    "%matplotlib inline "
   ]
  },
  {
   "cell_type": "code",
   "execution_count": 3,
   "id": "e4f00cec",
   "metadata": {},
   "outputs": [],
   "source": [
    "#creating the dataframe\n",
    "\n",
    "diabetes = pd.read_csv(\"diabetes2.csv\")"
   ]
  },
  {
   "cell_type": "markdown",
   "id": "100ad81f",
   "metadata": {},
   "source": [
    "\n",
    "# The Data"
   ]
  },
  {
   "cell_type": "markdown",
   "id": "09459265",
   "metadata": {},
   "source": [
    "The data contains the following columns:\n",
    "\n",
    "- Pregnancies: Number of times pregnant.\n",
    "- Glucose: Plasma glucose concentration 2 hours in an oral glucose tolerance test.\n",
    "- BloodPressure: Diastolic Blood Pressure (mm Hg).\n",
    "- SkinThickness: Triceps skin fold thickness (mm)\n",
    "- Insulin: 2-Hour serum insulin (mu U/ml).\n",
    "- BMI: Body mass index (weight in kg/(height in m)^2).\n",
    "- DiabetesPedigreeFunction: This function tells you the likelihood of diabetes based on family history.\n",
    "- Age: Age (years)\n",
    "- Outcome: Class variable, 0 (no disease), or 1 (have the disease)."
   ]
  },
  {
   "cell_type": "code",
   "execution_count": 27,
   "id": "926e2260",
   "metadata": {},
   "outputs": [
    {
     "data": {
      "text/html": [
       "<div>\n",
       "<style scoped>\n",
       "    .dataframe tbody tr th:only-of-type {\n",
       "        vertical-align: middle;\n",
       "    }\n",
       "\n",
       "    .dataframe tbody tr th {\n",
       "        vertical-align: top;\n",
       "    }\n",
       "\n",
       "    .dataframe thead th {\n",
       "        text-align: right;\n",
       "    }\n",
       "</style>\n",
       "<table border=\"1\" class=\"dataframe\">\n",
       "  <thead>\n",
       "    <tr style=\"text-align: right;\">\n",
       "      <th></th>\n",
       "      <th>Pregnancies</th>\n",
       "      <th>Glucose</th>\n",
       "      <th>BloodPressure</th>\n",
       "      <th>SkinThickness</th>\n",
       "      <th>Insulin</th>\n",
       "      <th>BMI</th>\n",
       "      <th>DiabetesPedigreeFunction</th>\n",
       "      <th>Age</th>\n",
       "      <th>Outcome</th>\n",
       "    </tr>\n",
       "  </thead>\n",
       "  <tbody>\n",
       "    <tr>\n",
       "      <th>0</th>\n",
       "      <td>6</td>\n",
       "      <td>148</td>\n",
       "      <td>72</td>\n",
       "      <td>35</td>\n",
       "      <td>0</td>\n",
       "      <td>33.6</td>\n",
       "      <td>0.627</td>\n",
       "      <td>50</td>\n",
       "      <td>1</td>\n",
       "    </tr>\n",
       "    <tr>\n",
       "      <th>1</th>\n",
       "      <td>1</td>\n",
       "      <td>85</td>\n",
       "      <td>66</td>\n",
       "      <td>29</td>\n",
       "      <td>0</td>\n",
       "      <td>26.6</td>\n",
       "      <td>0.351</td>\n",
       "      <td>31</td>\n",
       "      <td>0</td>\n",
       "    </tr>\n",
       "    <tr>\n",
       "      <th>2</th>\n",
       "      <td>8</td>\n",
       "      <td>183</td>\n",
       "      <td>64</td>\n",
       "      <td>0</td>\n",
       "      <td>0</td>\n",
       "      <td>23.3</td>\n",
       "      <td>0.672</td>\n",
       "      <td>32</td>\n",
       "      <td>1</td>\n",
       "    </tr>\n",
       "    <tr>\n",
       "      <th>3</th>\n",
       "      <td>1</td>\n",
       "      <td>89</td>\n",
       "      <td>66</td>\n",
       "      <td>23</td>\n",
       "      <td>94</td>\n",
       "      <td>28.1</td>\n",
       "      <td>0.167</td>\n",
       "      <td>21</td>\n",
       "      <td>0</td>\n",
       "    </tr>\n",
       "    <tr>\n",
       "      <th>4</th>\n",
       "      <td>0</td>\n",
       "      <td>137</td>\n",
       "      <td>40</td>\n",
       "      <td>35</td>\n",
       "      <td>168</td>\n",
       "      <td>43.1</td>\n",
       "      <td>2.288</td>\n",
       "      <td>33</td>\n",
       "      <td>1</td>\n",
       "    </tr>\n",
       "  </tbody>\n",
       "</table>\n",
       "</div>"
      ],
      "text/plain": [
       "   Pregnancies  Glucose  BloodPressure  SkinThickness  Insulin   BMI  \\\n",
       "0            6      148             72             35        0  33.6   \n",
       "1            1       85             66             29        0  26.6   \n",
       "2            8      183             64              0        0  23.3   \n",
       "3            1       89             66             23       94  28.1   \n",
       "4            0      137             40             35      168  43.1   \n",
       "\n",
       "   DiabetesPedigreeFunction  Age  Outcome  \n",
       "0                     0.627   50        1  \n",
       "1                     0.351   31        0  \n",
       "2                     0.672   32        1  \n",
       "3                     0.167   21        0  \n",
       "4                     2.288   33        1  "
      ]
     },
     "execution_count": 27,
     "metadata": {},
     "output_type": "execute_result"
    }
   ],
   "source": [
    "#looking at the top 5 rows in the dataframe\n",
    "\n",
    "diabetes.head()"
   ]
  },
  {
   "cell_type": "markdown",
   "id": "c1b7767f",
   "metadata": {},
   "source": [
    "Looking at the info gives important insights such as the number of total entries (rows), the number of columns, and the number of missing values in each column. It looks like there are no missing values in any of the columns since the number of non-null values are equal to the number of entries."
   ]
  },
  {
   "cell_type": "code",
   "execution_count": 26,
   "id": "61a86293",
   "metadata": {},
   "outputs": [
    {
     "name": "stdout",
     "output_type": "stream",
     "text": [
      "<class 'pandas.core.frame.DataFrame'>\n",
      "RangeIndex: 768 entries, 0 to 767\n",
      "Data columns (total 9 columns):\n",
      " #   Column                    Non-Null Count  Dtype  \n",
      "---  ------                    --------------  -----  \n",
      " 0   Pregnancies               768 non-null    int64  \n",
      " 1   Glucose                   768 non-null    int64  \n",
      " 2   BloodPressure             768 non-null    int64  \n",
      " 3   SkinThickness             768 non-null    int64  \n",
      " 4   Insulin                   768 non-null    int64  \n",
      " 5   BMI                       768 non-null    float64\n",
      " 6   DiabetesPedigreeFunction  768 non-null    float64\n",
      " 7   Age                       768 non-null    int64  \n",
      " 8   Outcome                   768 non-null    int64  \n",
      "dtypes: float64(2), int64(7)\n",
      "memory usage: 54.1 KB\n"
     ]
    }
   ],
   "source": [
    "diabetes.info()"
   ]
  },
  {
   "cell_type": "code",
   "execution_count": 5,
   "id": "723446ee",
   "metadata": {},
   "outputs": [
    {
     "data": {
      "text/html": [
       "<div>\n",
       "<style scoped>\n",
       "    .dataframe tbody tr th:only-of-type {\n",
       "        vertical-align: middle;\n",
       "    }\n",
       "\n",
       "    .dataframe tbody tr th {\n",
       "        vertical-align: top;\n",
       "    }\n",
       "\n",
       "    .dataframe thead th {\n",
       "        text-align: right;\n",
       "    }\n",
       "</style>\n",
       "<table border=\"1\" class=\"dataframe\">\n",
       "  <thead>\n",
       "    <tr style=\"text-align: right;\">\n",
       "      <th></th>\n",
       "      <th>Pregnancies</th>\n",
       "      <th>Glucose</th>\n",
       "      <th>BloodPressure</th>\n",
       "      <th>SkinThickness</th>\n",
       "      <th>Insulin</th>\n",
       "      <th>BMI</th>\n",
       "      <th>DiabetesPedigreeFunction</th>\n",
       "      <th>Age</th>\n",
       "      <th>Outcome</th>\n",
       "    </tr>\n",
       "  </thead>\n",
       "  <tbody>\n",
       "    <tr>\n",
       "      <th>count</th>\n",
       "      <td>768.000000</td>\n",
       "      <td>768.000000</td>\n",
       "      <td>768.000000</td>\n",
       "      <td>768.000000</td>\n",
       "      <td>768.000000</td>\n",
       "      <td>768.000000</td>\n",
       "      <td>768.000000</td>\n",
       "      <td>768.000000</td>\n",
       "      <td>768.000000</td>\n",
       "    </tr>\n",
       "    <tr>\n",
       "      <th>mean</th>\n",
       "      <td>3.845052</td>\n",
       "      <td>120.894531</td>\n",
       "      <td>69.105469</td>\n",
       "      <td>20.536458</td>\n",
       "      <td>79.799479</td>\n",
       "      <td>31.992578</td>\n",
       "      <td>0.471876</td>\n",
       "      <td>33.240885</td>\n",
       "      <td>0.348958</td>\n",
       "    </tr>\n",
       "    <tr>\n",
       "      <th>std</th>\n",
       "      <td>3.369578</td>\n",
       "      <td>31.972618</td>\n",
       "      <td>19.355807</td>\n",
       "      <td>15.952218</td>\n",
       "      <td>115.244002</td>\n",
       "      <td>7.884160</td>\n",
       "      <td>0.331329</td>\n",
       "      <td>11.760232</td>\n",
       "      <td>0.476951</td>\n",
       "    </tr>\n",
       "    <tr>\n",
       "      <th>min</th>\n",
       "      <td>0.000000</td>\n",
       "      <td>0.000000</td>\n",
       "      <td>0.000000</td>\n",
       "      <td>0.000000</td>\n",
       "      <td>0.000000</td>\n",
       "      <td>0.000000</td>\n",
       "      <td>0.078000</td>\n",
       "      <td>21.000000</td>\n",
       "      <td>0.000000</td>\n",
       "    </tr>\n",
       "    <tr>\n",
       "      <th>25%</th>\n",
       "      <td>1.000000</td>\n",
       "      <td>99.000000</td>\n",
       "      <td>62.000000</td>\n",
       "      <td>0.000000</td>\n",
       "      <td>0.000000</td>\n",
       "      <td>27.300000</td>\n",
       "      <td>0.243750</td>\n",
       "      <td>24.000000</td>\n",
       "      <td>0.000000</td>\n",
       "    </tr>\n",
       "    <tr>\n",
       "      <th>50%</th>\n",
       "      <td>3.000000</td>\n",
       "      <td>117.000000</td>\n",
       "      <td>72.000000</td>\n",
       "      <td>23.000000</td>\n",
       "      <td>30.500000</td>\n",
       "      <td>32.000000</td>\n",
       "      <td>0.372500</td>\n",
       "      <td>29.000000</td>\n",
       "      <td>0.000000</td>\n",
       "    </tr>\n",
       "    <tr>\n",
       "      <th>75%</th>\n",
       "      <td>6.000000</td>\n",
       "      <td>140.250000</td>\n",
       "      <td>80.000000</td>\n",
       "      <td>32.000000</td>\n",
       "      <td>127.250000</td>\n",
       "      <td>36.600000</td>\n",
       "      <td>0.626250</td>\n",
       "      <td>41.000000</td>\n",
       "      <td>1.000000</td>\n",
       "    </tr>\n",
       "    <tr>\n",
       "      <th>max</th>\n",
       "      <td>17.000000</td>\n",
       "      <td>199.000000</td>\n",
       "      <td>122.000000</td>\n",
       "      <td>99.000000</td>\n",
       "      <td>846.000000</td>\n",
       "      <td>67.100000</td>\n",
       "      <td>2.420000</td>\n",
       "      <td>81.000000</td>\n",
       "      <td>1.000000</td>\n",
       "    </tr>\n",
       "  </tbody>\n",
       "</table>\n",
       "</div>"
      ],
      "text/plain": [
       "       Pregnancies     Glucose  BloodPressure  SkinThickness     Insulin  \\\n",
       "count   768.000000  768.000000     768.000000     768.000000  768.000000   \n",
       "mean      3.845052  120.894531      69.105469      20.536458   79.799479   \n",
       "std       3.369578   31.972618      19.355807      15.952218  115.244002   \n",
       "min       0.000000    0.000000       0.000000       0.000000    0.000000   \n",
       "25%       1.000000   99.000000      62.000000       0.000000    0.000000   \n",
       "50%       3.000000  117.000000      72.000000      23.000000   30.500000   \n",
       "75%       6.000000  140.250000      80.000000      32.000000  127.250000   \n",
       "max      17.000000  199.000000     122.000000      99.000000  846.000000   \n",
       "\n",
       "              BMI  DiabetesPedigreeFunction         Age     Outcome  \n",
       "count  768.000000                768.000000  768.000000  768.000000  \n",
       "mean    31.992578                  0.471876   33.240885    0.348958  \n",
       "std      7.884160                  0.331329   11.760232    0.476951  \n",
       "min      0.000000                  0.078000   21.000000    0.000000  \n",
       "25%     27.300000                  0.243750   24.000000    0.000000  \n",
       "50%     32.000000                  0.372500   29.000000    0.000000  \n",
       "75%     36.600000                  0.626250   41.000000    1.000000  \n",
       "max     67.100000                  2.420000   81.000000    1.000000  "
      ]
     },
     "execution_count": 5,
     "metadata": {},
     "output_type": "execute_result"
    }
   ],
   "source": [
    "diabetes.describe()"
   ]
  },
  {
   "cell_type": "code",
   "execution_count": 57,
   "id": "9b7e120d",
   "metadata": {},
   "outputs": [
    {
     "data": {
      "text/plain": [
       "Pregnancies                 0\n",
       "Glucose                     0\n",
       "BloodPressure               0\n",
       "SkinThickness               0\n",
       "Insulin                     0\n",
       "BMI                         0\n",
       "DiabetesPedigreeFunction    0\n",
       "Age                         0\n",
       "Outcome                     0\n",
       "dtype: int64"
      ]
     },
     "execution_count": 57,
     "metadata": {},
     "output_type": "execute_result"
    }
   ],
   "source": [
    "#Checking again to make sure no values are missing.\n",
    "\n",
    "diabetes.isnull().sum()"
   ]
  },
  {
   "cell_type": "markdown",
   "id": "bb230591",
   "metadata": {},
   "source": [
    "# Exploratory Data Analysis Trends"
   ]
  },
  {
   "cell_type": "markdown",
   "id": "da3f9eaf",
   "metadata": {},
   "source": [
    "Before applying the logistic regression model, I will apply some exploratory data visualization to get a better understanding of the dataset with regards to the diagnosis of diabetes. There are many factors that can lead to people having diabetes such as insulin, glucose and blood pressure levels and these will be explored.\n",
    "\n",
    "To begin, I will simply create a count plot to see how many people were tested to have the disease vs. how many do not have the disease."
   ]
  },
  {
   "cell_type": "code",
   "execution_count": 219,
   "id": "39cda5f5",
   "metadata": {},
   "outputs": [
    {
     "data": {
      "image/png": "[encoded data removed]",
      "text/plain": [
       "<Figure size 432x288 with 1 Axes>"
      ]
     },
     "metadata": {},
     "output_type": "display_data"
    }
   ],
   "source": [
    "sns.set_style(\"whitegrid\")\n",
    "Cnt = sns.countplot(data = diabetes, x = \"Outcome\")\n",
    "Cnt.set_title(\"Woman Diagnosed With Diabetes\", fontsize = 15)\n",
    "\n",
    "# to display the numbers on the graphs\n",
    "for bar in Cnt.patches:\n",
    "    Cnt.annotate(f'\\n{bar.get_height()}', (bar.get_x()+0.2, bar.get_height()), va='top', ha='center', color='white', size=18)"
   ]
  },
  {
   "cell_type": "markdown",
   "id": "6529cc57",
   "metadata": {},
   "source": [
    "Majority of the females in the study tend to not have the disease, and the remaining minority have the disease."
   ]
  },
  {
   "cell_type": "markdown",
   "id": "3717aada",
   "metadata": {},
   "source": [
    "Now, I will take a glance at the blood pressure counts to see the distribution. A normal diastolic blood pressure is between 70-80 (mm Hg) and it seems that a large portion of woman lie between that range."
   ]
  },
  {
   "cell_type": "code",
   "execution_count": 55,
   "id": "7f1dc51b",
   "metadata": {
    "scrolled": true
   },
   "outputs": [
    {
     "data": {
      "image/png": "[encoded data removed]",
      "text/plain": [
       "<Figure size 1152x216 with 1 Axes>"
      ]
     },
     "metadata": {},
     "output_type": "display_data"
    }
   ],
   "source": [
    "plt.figure(figsize = (16,3))\n",
    "bar = sns.countplot(data = diabetes, x = \"BloodPressure\").set_title(\"Blood Pressure Counts (mm Hg)\", fontsize = 15)\n"
   ]
  },
  {
   "cell_type": "markdown",
   "id": "6de44e66",
   "metadata": {},
   "source": [
    "It can be seen that some blood pressure values are zero which are not real clinical values. These values will be estimated and replaced with the mean values in the data cleaning section.\n",
    "\n",
    "Now I will attemp to visualize the relationship between the mean blood pressure of the woman with diabetes vs. the mean blood pressure of those without."
   ]
  },
  {
   "cell_type": "code",
   "execution_count": 220,
   "id": "355f3dcd",
   "metadata": {},
   "outputs": [
    {
     "data": {
      "image/png": "[encoded data removed]",
      "text/plain": [
       "<Figure size 432x288 with 1 Axes>"
      ]
     },
     "metadata": {},
     "output_type": "display_data"
    }
   ],
   "source": [
    "bar = sns.barplot(x = \"Outcome\", y = \"BloodPressure\", data = diabetes)\n",
    "bar.set_title(\"Average BloodPressure vs Diagnosis\", fontsize = 15)\n"
   ]
  },
  {
   "cell_type": "markdown",
   "id": "5e8e16da",
   "metadata": {},
   "source": [
    "It can be seen that the female patients who have diabetes have a slighly higher blood pressure.\n",
    "\n",
    "Next, I will look at the glucose concentration of the patients as well as the insulin levels. Diabetes occurs from an increase in blood sugar levels because your body either can't produce insulin, or can't use the insulin properly that your body produces. When glucose is in the blood, it signals the pancrease to form insulin, which is a hormone that helps transport the glucose from the blood to many cells around the body. If insulin is not functioning due to high concentrations (type 2 diabetes), or is not produced (type 1 diabetes), the blood sugar levels will be high as the aborption of glucose from the blood is not functioning."
   ]
  },
  {
   "cell_type": "code",
   "execution_count": 222,
   "id": "6c9ec35c",
   "metadata": {},
   "outputs": [
    {
     "data": {
      "image/png": "[encoded data removed]",
      "text/plain": [
       "<Figure size 432x288 with 2 Axes>"
      ]
     },
     "metadata": {},
     "output_type": "display_data"
    }
   ],
   "source": [
    "fig, axes = plt.subplots(1,2)\n",
    "\n",
    "bar2 = sns.barplot(x = \"Outcome\", y = \"Glucose\", data = diabetes, ax = axes[0])\n",
    "bar2.set_title(\"Avg. Glucose Conc. vs Diagnosis\")\n",
    "\n",
    "bar3 = sns.barplot(x = \"Outcome\", y = \"Insulin\", data = diabetes, ax= axes[1])\n",
    "bar3.set_title(\"Avg. Insulin Conc. vs Diagnosis\")\n",
    "plt.tight_layout()"
   ]
  },
  {
   "cell_type": "markdown",
   "id": "e40443d3",
   "metadata": {},
   "source": [
    "The barplot confirms that patients who have diabetes have considerably higher plasma glucose concentrations and insulin levels than those without.\n",
    "\n",
    "Another important category to look at is the body mass index (BMI) and how this has an impact on diabetes. It is defined as the weight of the body divded by the height (in meters) squared. It is used as a method to categorize weight (e.g underweight, overweight, healthyweight.) An increase in weight has been known to be a cause of diabetes and the following data will be used to shown this."
   ]
  },
  {
   "cell_type": "code",
   "execution_count": 221,
   "id": "0a50c22b",
   "metadata": {},
   "outputs": [
    {
     "data": {
      "image/png": "[encoded data removed]",
      "text/plain": [
       "<Figure size 432x288 with 1 Axes>"
      ]
     },
     "metadata": {},
     "output_type": "display_data"
    }
   ],
   "source": [
    "bar4 =sns.barplot(x = \"Outcome\", y = \"BMI\", data = diabetes)\n",
    "bar4.set_title(\"Average BMI vs Diagnosis\", fontsize = 15)"
   ]
  },
  {
   "cell_type": "markdown",
   "id": "2156dfda",
   "metadata": {},
   "source": [
    "The barplot shows that the woman diagnosed with diabetes have a higher BMI index (around 35) than those without. The average BMI index for woman with diabetes shows that they have type 2 obesity (BMI index from 35-39.9). The average BMI index for woman that were not diagnosed with obesity shows that they have type 1 obesity (BMI index from 30-34.9)\n",
    "\n",
    "To continue, I will search for correlations for every category and plot this using a heatmap to see if I can find any more relevent information to compare to the outcome variable."
   ]
  },
  {
   "cell_type": "code",
   "execution_count": 109,
   "id": "0b4b0841",
   "metadata": {},
   "outputs": [
    {
     "data": {
      "text/plain": [
       "Text(0.5, 1.0, 'Heatmap of all the Correlations')"
      ]
     },
     "execution_count": 109,
     "metadata": {},
     "output_type": "execute_result"
    },
    {
     "data": {
      "image/png": "[encoded data removed]",
      "text/plain": [
       "<Figure size 432x288 with 2 Axes>"
      ]
     },
     "metadata": {},
     "output_type": "display_data"
    }
   ],
   "source": [
    "correl = diabetes.corr()\n",
    "sns.heatmap(correl, annot = True).set_title(\"Heatmap of all the Correlations\", fontsize = 15)"
   ]
  },
  {
   "cell_type": "markdown",
   "id": "cea23b61",
   "metadata": {},
   "source": [
    "Note that in a heatmap, a larger value means more correlation between the two columns. In this case, a lighter color represents a higher correlation. It is shown that glucose has a high correlation with the outcome of diabetes as explained above, as well as the BMI index. One can also see that age and pregnancies have a high correlation which makes sense because the more children a woman has, the older they will be."
   ]
  },
  {
   "cell_type": "markdown",
   "id": "41292e3f",
   "metadata": {},
   "source": [
    "# Data Processing & Cleaning"
   ]
  },
  {
   "cell_type": "markdown",
   "id": "2536fd07",
   "metadata": {},
   "source": [
    "As mentioned above, there are no missing values in any category in the dataframe. However, there are zero values in multiple columns which are not good clinical representation values. I will further explore how many zero values there are in each column."
   ]
  },
  {
   "cell_type": "code",
   "execution_count": 130,
   "id": "d9f7e255",
   "metadata": {},
   "outputs": [
    {
     "name": "stdout",
     "output_type": "stream",
     "text": [
      "Number of zero values for Pregnancies is: 111\n",
      "Number of zero values for Glucose is: 5\n",
      "Number of zero values for BloodPressure is: 35\n",
      "Number of zero values for SkinThickness is: 227\n",
      "Number of zero values for Insulin is: 374\n",
      "Number of zero values for BMI is: 11\n",
      "Number of zero values for DiabetesPedigreeFunction is: 0\n",
      "Number of zero values for Age is: 0\n",
      "Number of zero values for Outcome is: 500\n"
     ]
    }
   ],
   "source": [
    "for i in diabetes.columns:\n",
    "    print (f\"Number of zero values for {i} is:\", diabetes[i].isin([0]).sum())"
   ]
  },
  {
   "cell_type": "markdown",
   "id": "ab80076c",
   "metadata": {},
   "source": [
    "The following categories have zero values: Pregnanices, Glucose, BloodPressure, SkinThickness, Insulin, BMI and outcome. However, a value of zero for pregnancies is a real value, since the woman had no children. For outcome, the value of zero is also a real value, indicating that the woman does not have diabetes. The rest of the columns should not have zero values as they are not real clinical values. Each zero value will be replaced with the mean value for each column."
   ]
  },
  {
   "cell_type": "code",
   "execution_count": 132,
   "id": "aedbb9a9",
   "metadata": {},
   "outputs": [],
   "source": [
    "#making a copy of the dataframe so we don't work with the actual data.\n",
    "\n",
    "diabetes_processed = diabetes.copy()"
   ]
  },
  {
   "cell_type": "code",
   "execution_count": 139,
   "id": "51fcd8f0",
   "metadata": {},
   "outputs": [
    {
     "data": {
      "text/plain": [
       "Index(['Pregnancies', 'Glucose', 'BloodPressure', 'SkinThickness', 'Insulin',\n",
       "       'BMI', 'DiabetesPedigreeFunction', 'Age', 'Outcome'],\n",
       "      dtype='object')"
      ]
     },
     "execution_count": 139,
     "metadata": {},
     "output_type": "execute_result"
    }
   ],
   "source": [
    "#only elements 1 through 6 (not including 6) will be used.\n",
    "diabetes.columns"
   ]
  },
  {
   "cell_type": "code",
   "execution_count": 136,
   "id": "c8abcc58",
   "metadata": {},
   "outputs": [],
   "source": [
    "#updating zero values in the needed columns to the mean values.\n",
    "\n",
    "for i in diabetes.columns[1:6]:\n",
    "    diabetes_processed[i] = diabetes_processed[i].replace(0, diabetes[i].mean())"
   ]
  },
  {
   "cell_type": "code",
   "execution_count": 137,
   "id": "2d73c078",
   "metadata": {},
   "outputs": [
    {
     "data": {
      "text/html": [
       "<div>\n",
       "<style scoped>\n",
       "    .dataframe tbody tr th:only-of-type {\n",
       "        vertical-align: middle;\n",
       "    }\n",
       "\n",
       "    .dataframe tbody tr th {\n",
       "        vertical-align: top;\n",
       "    }\n",
       "\n",
       "    .dataframe thead th {\n",
       "        text-align: right;\n",
       "    }\n",
       "</style>\n",
       "<table border=\"1\" class=\"dataframe\">\n",
       "  <thead>\n",
       "    <tr style=\"text-align: right;\">\n",
       "      <th></th>\n",
       "      <th>Pregnancies</th>\n",
       "      <th>Glucose</th>\n",
       "      <th>BloodPressure</th>\n",
       "      <th>SkinThickness</th>\n",
       "      <th>Insulin</th>\n",
       "      <th>BMI</th>\n",
       "      <th>DiabetesPedigreeFunction</th>\n",
       "      <th>Age</th>\n",
       "      <th>Outcome</th>\n",
       "    </tr>\n",
       "  </thead>\n",
       "  <tbody>\n",
       "    <tr>\n",
       "      <th>0</th>\n",
       "      <td>6</td>\n",
       "      <td>148.0</td>\n",
       "      <td>72.0</td>\n",
       "      <td>35.000000</td>\n",
       "      <td>79.799479</td>\n",
       "      <td>33.6</td>\n",
       "      <td>0.627</td>\n",
       "      <td>50</td>\n",
       "      <td>1</td>\n",
       "    </tr>\n",
       "    <tr>\n",
       "      <th>1</th>\n",
       "      <td>1</td>\n",
       "      <td>85.0</td>\n",
       "      <td>66.0</td>\n",
       "      <td>29.000000</td>\n",
       "      <td>79.799479</td>\n",
       "      <td>26.6</td>\n",
       "      <td>0.351</td>\n",
       "      <td>31</td>\n",
       "      <td>0</td>\n",
       "    </tr>\n",
       "    <tr>\n",
       "      <th>2</th>\n",
       "      <td>8</td>\n",
       "      <td>183.0</td>\n",
       "      <td>64.0</td>\n",
       "      <td>20.536458</td>\n",
       "      <td>79.799479</td>\n",
       "      <td>23.3</td>\n",
       "      <td>0.672</td>\n",
       "      <td>32</td>\n",
       "      <td>1</td>\n",
       "    </tr>\n",
       "    <tr>\n",
       "      <th>3</th>\n",
       "      <td>1</td>\n",
       "      <td>89.0</td>\n",
       "      <td>66.0</td>\n",
       "      <td>23.000000</td>\n",
       "      <td>94.000000</td>\n",
       "      <td>28.1</td>\n",
       "      <td>0.167</td>\n",
       "      <td>21</td>\n",
       "      <td>0</td>\n",
       "    </tr>\n",
       "    <tr>\n",
       "      <th>4</th>\n",
       "      <td>0</td>\n",
       "      <td>137.0</td>\n",
       "      <td>40.0</td>\n",
       "      <td>35.000000</td>\n",
       "      <td>168.000000</td>\n",
       "      <td>43.1</td>\n",
       "      <td>2.288</td>\n",
       "      <td>33</td>\n",
       "      <td>1</td>\n",
       "    </tr>\n",
       "  </tbody>\n",
       "</table>\n",
       "</div>"
      ],
      "text/plain": [
       "   Pregnancies  Glucose  BloodPressure  SkinThickness     Insulin   BMI  \\\n",
       "0            6    148.0           72.0      35.000000   79.799479  33.6   \n",
       "1            1     85.0           66.0      29.000000   79.799479  26.6   \n",
       "2            8    183.0           64.0      20.536458   79.799479  23.3   \n",
       "3            1     89.0           66.0      23.000000   94.000000  28.1   \n",
       "4            0    137.0           40.0      35.000000  168.000000  43.1   \n",
       "\n",
       "   DiabetesPedigreeFunction  Age  Outcome  \n",
       "0                     0.627   50        1  \n",
       "1                     0.351   31        0  \n",
       "2                     0.672   32        1  \n",
       "3                     0.167   21        0  \n",
       "4                     2.288   33        1  "
      ]
     },
     "execution_count": 137,
     "metadata": {},
     "output_type": "execute_result"
    }
   ],
   "source": [
    "#checking the head the of the updated dataframe.\n",
    "diabetes_processed.head()"
   ]
  },
  {
   "cell_type": "markdown",
   "id": "1d26c970",
   "metadata": {},
   "source": [
    "As you can see from the newly updated dataframe, the first 3 values for insulin are no longer zero as they were in the old dataframe, and have been changed with the mean values. I will double check to see if the update was done to the rest of the columns."
   ]
  },
  {
   "cell_type": "code",
   "execution_count": 140,
   "id": "a0bfcc50",
   "metadata": {},
   "outputs": [
    {
     "name": "stdout",
     "output_type": "stream",
     "text": [
      "Number of zero values for Pregnancies is: 111\n",
      "Number of zero values for Glucose is: 0\n",
      "Number of zero values for BloodPressure is: 0\n",
      "Number of zero values for SkinThickness is: 0\n",
      "Number of zero values for Insulin is: 0\n",
      "Number of zero values for BMI is: 0\n",
      "Number of zero values for DiabetesPedigreeFunction is: 0\n",
      "Number of zero values for Age is: 0\n",
      "Number of zero values for Outcome is: 500\n"
     ]
    }
   ],
   "source": [
    "for i in diabetes_processed.columns:\n",
    "    print (f\"Number of zero values for {i} is:\", diabetes_processed[i].isin([0]).sum())"
   ]
  },
  {
   "cell_type": "markdown",
   "id": "930f4f38",
   "metadata": {},
   "source": [
    "The Glucose, BloodPressure, SkinThickness, Insulin, and BMI no longer have zero values and the data cleaning is complete.\n",
    "\n",
    "A baseline model will be used to classify the accuracy of the logistic reggresion model to classify patients who no not have diabetes vs those who do. A good baseline model always chooses the majority group (the ZeroR classifier), which in machine learning is usually the patients who tested negative, or do not have the disease."
   ]
  },
  {
   "cell_type": "code",
   "execution_count": 7,
   "id": "af3c3f63",
   "metadata": {},
   "outputs": [
    {
     "data": {
      "text/plain": [
       "0    500\n",
       "1    268\n",
       "Name: Outcome, dtype: int64"
      ]
     },
     "execution_count": 7,
     "metadata": {},
     "output_type": "execute_result"
    }
   ],
   "source": [
    "diabetes['Outcome'].value_counts()"
   ]
  },
  {
   "cell_type": "markdown",
   "id": "259b5ddc",
   "metadata": {},
   "source": [
    "As shown above and in the data exploration section, the majority classifer here is 0, or people who no not have the diabetes. Now, the baseline accuracy will be computed."
   ]
  },
  {
   "cell_type": "code",
   "execution_count": 185,
   "id": "78f1c066",
   "metadata": {},
   "outputs": [
    {
     "name": "stdout",
     "output_type": "stream",
     "text": [
      "The baselin accuracy is: 0.6510416666666666\n"
     ]
    }
   ],
   "source": [
    "#baseline accuracy\n",
    "\n",
    "base_accuracy = 500/(500 + 268)\n",
    "print(f\"The baseline accuracy is: {base_accuracy}\")"
   ]
  },
  {
   "cell_type": "markdown",
   "id": "01b86d45",
   "metadata": {},
   "source": [
    "Thus, for the model to be accurate, it needs to beat the baseline accuracy."
   ]
  },
  {
   "cell_type": "markdown",
   "id": "3a01b1bf",
   "metadata": {},
   "source": [
    "# Training Model and Predicitions\n",
    "\n",
    "I will begin by splitting the data into a training set and a test set. The data will be split into the X array that has all the columns that the model will train on, minus the target variable column (the outcome). The y array will be the 'Outcome' column."
   ]
  },
  {
   "cell_type": "markdown",
   "id": "a6d82223",
   "metadata": {},
   "source": [
    "## Train Test Split"
   ]
  },
  {
   "cell_type": "code",
   "execution_count": 191,
   "id": "0c519721",
   "metadata": {},
   "outputs": [],
   "source": [
    "from sklearn.model_selection import train_test_split"
   ]
  },
  {
   "cell_type": "code",
   "execution_count": 148,
   "id": "2ac953a8",
   "metadata": {},
   "outputs": [],
   "source": [
    "#Setting the variables.\n",
    "\n",
    "X = diabetes_processed.drop('Outcome', axis=1)\n",
    "y = diabetes_processed['Outcome']"
   ]
  },
  {
   "cell_type": "code",
   "execution_count": 210,
   "id": "35217ca0",
   "metadata": {},
   "outputs": [],
   "source": [
    "X_train, X_test, y_train, y_test = train_test_split(X, y, test_size=0.30, random_state=101)"
   ]
  },
  {
   "cell_type": "markdown",
   "id": "b66d4921",
   "metadata": {},
   "source": [
    "## Fitting and Predicting the Data"
   ]
  },
  {
   "cell_type": "code",
   "execution_count": 192,
   "id": "23d0b240",
   "metadata": {},
   "outputs": [],
   "source": [
    "from sklearn.linear_model import LogisticRegression"
   ]
  },
  {
   "cell_type": "code",
   "execution_count": 216,
   "id": "f628dd7e",
   "metadata": {},
   "outputs": [],
   "source": [
    "logmodel = LogisticRegression()\n",
    "logmodel.fit(X_train,y_train)"
   ]
  },
  {
   "cell_type": "code",
   "execution_count": 157,
   "id": "5be493c1",
   "metadata": {},
   "outputs": [],
   "source": [
    "predictions = logmodel.predict(X_test)"
   ]
  },
  {
   "cell_type": "markdown",
   "id": "3f1d4964",
   "metadata": {},
   "source": [
    "## Model Evaluation"
   ]
  },
  {
   "cell_type": "code",
   "execution_count": 223,
   "id": "c61d87dc",
   "metadata": {},
   "outputs": [],
   "source": [
    "from sklearn.metrics import classification_report,confusion_matrix,accuracy_score"
   ]
  },
  {
   "cell_type": "code",
   "execution_count": 207,
   "id": "0faed3cf",
   "metadata": {},
   "outputs": [
    {
     "name": "stdout",
     "output_type": "stream",
     "text": [
      "              precision    recall  f1-score   support\n",
      "\n",
      "           0       0.80      0.89      0.84       150\n",
      "           1       0.74      0.59      0.66        81\n",
      "\n",
      "    accuracy                           0.78       231\n",
      "   macro avg       0.77      0.74      0.75       231\n",
      "weighted avg       0.78      0.78      0.78       231\n",
      "\n"
     ]
    }
   ],
   "source": [
    "print(classification_report(y_test,predictions))"
   ]
  },
  {
   "cell_type": "code",
   "execution_count": 208,
   "id": "c41f3e2b",
   "metadata": {},
   "outputs": [
    {
     "data": {
      "text/plain": [
       "array([[133,  17],\n",
       "       [ 33,  48]])"
      ]
     },
     "execution_count": 208,
     "metadata": {},
     "output_type": "execute_result"
    }
   ],
   "source": [
    "confusion_matrix(y_test,predictions)"
   ]
  },
  {
   "cell_type": "code",
   "execution_count": 213,
   "id": "b3c5a8e3",
   "metadata": {},
   "outputs": [
    {
     "data": {
      "image/png": "[encoded data removed]",
      "text/plain": [
       "<Figure size 432x288 with 2 Axes>"
      ]
     },
     "metadata": {},
     "output_type": "display_data"
    }
   ],
   "source": [
    "#displaying the confusing matrix as a plot\n",
    "\n",
    "from sklearn.metrics import plot_confusion_matrix\n",
    "plot_confusion_matrix(logmodel, X_test, y_test, cmap=plt.cm.Blues)\n",
    "plt.grid(False) #removes the gridlines"
   ]
  },
  {
   "cell_type": "code",
   "execution_count": 189,
   "id": "d239a9c9",
   "metadata": {},
   "outputs": [
    {
     "name": "stdout",
     "output_type": "stream",
     "text": [
      "The accuracy is: 0.7835497835497836\n"
     ]
    }
   ],
   "source": [
    "accuracy = accuracy_score(y_test,predictions)\n",
    "print(f\"The accuracy is: {accuracy}\")"
   ]
  },
  {
   "cell_type": "markdown",
   "id": "0fa64ed9",
   "metadata": {},
   "source": [
    "As shown, the model has an accuracy score of 0.78, which is greater than the baseline accuracy of 0.65 meaning the model is adequately effective. The accuracy score is the true positive (bottom right) + true negative (top left) / ( true positive + true negative + false positive (top right) + false negative (bottom left). Thus, the model can predict that a person DOES NOT (the majority classifer) have diabetes with an accuracy of 78%. However, if I want the model to tell me how many positive cases it was able to be predict correctly, I need to look at the recall score.\n",
    "\n",
    "The recall metric is very important in medical studies where positive cases need to be detected. You do not want a person who has the diesease being told that they do not have it. The recall score tells us that 59% of the positive cases were succsesfully predicted by the model. This means that this model is not very good at predicting if someone is testing postive, but it's relatively accurate (89%) at predicting people who test negative."
   ]
  },
  {
   "cell_type": "code",
   "execution_count": null,
   "id": "661e674e",
   "metadata": {},
   "outputs": [],
   "source": []
  }
 ],
 "metadata": {
  "kernelspec": {
   "display_name": "Python 3",
   "language": "python",
   "name": "python3"
  },
  "language_info": {
   "codemirror_mode": {
    "name": "ipython",
    "version": 3
   },
   "file_extension": ".py",
   "mimetype": "text/x-python",
   "name": "python",
   "nbconvert_exporter": "python",
   "pygments_lexer": "ipython3",
   "version": "3.8.8"
  }
 },
 "nbformat": 4,
 "nbformat_minor": 5
}
